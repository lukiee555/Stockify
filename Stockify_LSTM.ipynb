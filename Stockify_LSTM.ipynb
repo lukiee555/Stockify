{
 "cells": [
  {
   "cell_type": "code",
   "execution_count": 2,
   "metadata": {},
   "outputs": [],
   "source": [
    "import numpy as np \n",
    "import pandas as pd\n",
    "import matplotlib.pyplot as plt\n",
    "import pandas_datareader as data"
   ]
  },
  {
   "cell_type": "code",
   "execution_count": 3,
   "metadata": {},
   "outputs": [],
   "source": [
    "start = '2010-01-01'\n",
    "end = '2020-12-31'"
   ]
  },
  {
   "cell_type": "code",
   "execution_count": 12,
   "metadata": {},
   "outputs": [
    {
     "data": {
      "text/html": [
       "<div>\n",
       "<style scoped>\n",
       "    .dataframe tbody tr th:only-of-type {\n",
       "        vertical-align: middle;\n",
       "    }\n",
       "\n",
       "    .dataframe tbody tr th {\n",
       "        vertical-align: top;\n",
       "    }\n",
       "\n",
       "    .dataframe thead th {\n",
       "        text-align: right;\n",
       "    }\n",
       "</style>\n",
       "<table border=\"1\" class=\"dataframe\">\n",
       "  <thead>\n",
       "    <tr style=\"text-align: right;\">\n",
       "      <th></th>\n",
       "      <th>High</th>\n",
       "      <th>Low</th>\n",
       "      <th>Open</th>\n",
       "      <th>Close</th>\n",
       "      <th>Volume</th>\n",
       "      <th>Adj Close</th>\n",
       "    </tr>\n",
       "    <tr>\n",
       "      <th>Date</th>\n",
       "      <th></th>\n",
       "      <th></th>\n",
       "      <th></th>\n",
       "      <th></th>\n",
       "      <th></th>\n",
       "      <th></th>\n",
       "    </tr>\n",
       "  </thead>\n",
       "  <tbody>\n",
       "    <tr>\n",
       "      <th>2009-12-31</th>\n",
       "      <td>313.013000</td>\n",
       "      <td>310.300293</td>\n",
       "      <td>312.687683</td>\n",
       "      <td>310.300293</td>\n",
       "      <td>2437160.0</td>\n",
       "      <td>310.300293</td>\n",
       "    </tr>\n",
       "    <tr>\n",
       "      <th>2010-01-04</th>\n",
       "      <td>315.070068</td>\n",
       "      <td>312.432434</td>\n",
       "      <td>313.788788</td>\n",
       "      <td>313.688690</td>\n",
       "      <td>3908488.0</td>\n",
       "      <td>313.688690</td>\n",
       "    </tr>\n",
       "    <tr>\n",
       "      <th>2010-01-05</th>\n",
       "      <td>314.234222</td>\n",
       "      <td>311.081085</td>\n",
       "      <td>313.903900</td>\n",
       "      <td>312.307312</td>\n",
       "      <td>6003391.0</td>\n",
       "      <td>312.307312</td>\n",
       "    </tr>\n",
       "    <tr>\n",
       "      <th>2010-01-06</th>\n",
       "      <td>313.243256</td>\n",
       "      <td>303.483490</td>\n",
       "      <td>313.243256</td>\n",
       "      <td>304.434448</td>\n",
       "      <td>7949443.0</td>\n",
       "      <td>304.434448</td>\n",
       "    </tr>\n",
       "    <tr>\n",
       "      <th>2010-01-07</th>\n",
       "      <td>305.305298</td>\n",
       "      <td>296.621613</td>\n",
       "      <td>305.005005</td>\n",
       "      <td>297.347351</td>\n",
       "      <td>12815771.0</td>\n",
       "      <td>297.347351</td>\n",
       "    </tr>\n",
       "  </tbody>\n",
       "</table>\n",
       "</div>"
      ],
      "text/plain": [
       "                  High         Low        Open       Close      Volume  \\\n",
       "Date                                                                     \n",
       "2009-12-31  313.013000  310.300293  312.687683  310.300293   2437160.0   \n",
       "2010-01-04  315.070068  312.432434  313.788788  313.688690   3908488.0   \n",
       "2010-01-05  314.234222  311.081085  313.903900  312.307312   6003391.0   \n",
       "2010-01-06  313.243256  303.483490  313.243256  304.434448   7949443.0   \n",
       "2010-01-07  305.305298  296.621613  305.005005  297.347351  12815771.0   \n",
       "\n",
       "             Adj Close  \n",
       "Date                    \n",
       "2009-12-31  310.300293  \n",
       "2010-01-04  313.688690  \n",
       "2010-01-05  312.307312  \n",
       "2010-01-06  304.434448  \n",
       "2010-01-07  297.347351  "
      ]
     },
     "execution_count": 12,
     "metadata": {},
     "output_type": "execute_result"
    }
   ],
   "source": [
    "df = data.DataReader('GOOGL', 'yahoo', start, end)\n",
    "df.head()"
   ]
  },
  {
   "cell_type": "code",
   "execution_count": 13,
   "metadata": {},
   "outputs": [
    {
     "data": {
      "text/html": [
       "<div>\n",
       "<style scoped>\n",
       "    .dataframe tbody tr th:only-of-type {\n",
       "        vertical-align: middle;\n",
       "    }\n",
       "\n",
       "    .dataframe tbody tr th {\n",
       "        vertical-align: top;\n",
       "    }\n",
       "\n",
       "    .dataframe thead th {\n",
       "        text-align: right;\n",
       "    }\n",
       "</style>\n",
       "<table border=\"1\" class=\"dataframe\">\n",
       "  <thead>\n",
       "    <tr style=\"text-align: right;\">\n",
       "      <th></th>\n",
       "      <th>Date</th>\n",
       "      <th>High</th>\n",
       "      <th>Low</th>\n",
       "      <th>Open</th>\n",
       "      <th>Close</th>\n",
       "      <th>Volume</th>\n",
       "      <th>Adj Close</th>\n",
       "    </tr>\n",
       "  </thead>\n",
       "  <tbody>\n",
       "    <tr>\n",
       "      <th>0</th>\n",
       "      <td>2009-12-31</td>\n",
       "      <td>313.013000</td>\n",
       "      <td>310.300293</td>\n",
       "      <td>312.687683</td>\n",
       "      <td>310.300293</td>\n",
       "      <td>2437160.0</td>\n",
       "      <td>310.300293</td>\n",
       "    </tr>\n",
       "    <tr>\n",
       "      <th>1</th>\n",
       "      <td>2010-01-04</td>\n",
       "      <td>315.070068</td>\n",
       "      <td>312.432434</td>\n",
       "      <td>313.788788</td>\n",
       "      <td>313.688690</td>\n",
       "      <td>3908488.0</td>\n",
       "      <td>313.688690</td>\n",
       "    </tr>\n",
       "    <tr>\n",
       "      <th>2</th>\n",
       "      <td>2010-01-05</td>\n",
       "      <td>314.234222</td>\n",
       "      <td>311.081085</td>\n",
       "      <td>313.903900</td>\n",
       "      <td>312.307312</td>\n",
       "      <td>6003391.0</td>\n",
       "      <td>312.307312</td>\n",
       "    </tr>\n",
       "    <tr>\n",
       "      <th>3</th>\n",
       "      <td>2010-01-06</td>\n",
       "      <td>313.243256</td>\n",
       "      <td>303.483490</td>\n",
       "      <td>313.243256</td>\n",
       "      <td>304.434448</td>\n",
       "      <td>7949443.0</td>\n",
       "      <td>304.434448</td>\n",
       "    </tr>\n",
       "    <tr>\n",
       "      <th>4</th>\n",
       "      <td>2010-01-07</td>\n",
       "      <td>305.305298</td>\n",
       "      <td>296.621613</td>\n",
       "      <td>305.005005</td>\n",
       "      <td>297.347351</td>\n",
       "      <td>12815771.0</td>\n",
       "      <td>297.347351</td>\n",
       "    </tr>\n",
       "  </tbody>\n",
       "</table>\n",
       "</div>"
      ],
      "text/plain": [
       "        Date        High         Low        Open       Close      Volume  \\\n",
       "0 2009-12-31  313.013000  310.300293  312.687683  310.300293   2437160.0   \n",
       "1 2010-01-04  315.070068  312.432434  313.788788  313.688690   3908488.0   \n",
       "2 2010-01-05  314.234222  311.081085  313.903900  312.307312   6003391.0   \n",
       "3 2010-01-06  313.243256  303.483490  313.243256  304.434448   7949443.0   \n",
       "4 2010-01-07  305.305298  296.621613  305.005005  297.347351  12815771.0   \n",
       "\n",
       "    Adj Close  \n",
       "0  310.300293  \n",
       "1  313.688690  \n",
       "2  312.307312  \n",
       "3  304.434448  \n",
       "4  297.347351  "
      ]
     },
     "execution_count": 13,
     "metadata": {},
     "output_type": "execute_result"
    }
   ],
   "source": [
    " #Reseting Index as I don't want Date as Index Column\n",
    "df = df.reset_index()\n",
    "df.head()"
   ]
  },
  {
   "cell_type": "markdown",
   "metadata": {},
   "source": [
    ">Dropping Date and Adjusted Close column as they will not play significant role\n",
    ">Adj Close can play very big role for analysing the past performance for particular stock but it is not helpful for\n",
    ">Predicting the price"
   ]
  },
  {
   "cell_type": "code",
   "execution_count": 14,
   "metadata": {},
   "outputs": [
    {
     "data": {
      "text/html": [
       "<div>\n",
       "<style scoped>\n",
       "    .dataframe tbody tr th:only-of-type {\n",
       "        vertical-align: middle;\n",
       "    }\n",
       "\n",
       "    .dataframe tbody tr th {\n",
       "        vertical-align: top;\n",
       "    }\n",
       "\n",
       "    .dataframe thead th {\n",
       "        text-align: right;\n",
       "    }\n",
       "</style>\n",
       "<table border=\"1\" class=\"dataframe\">\n",
       "  <thead>\n",
       "    <tr style=\"text-align: right;\">\n",
       "      <th></th>\n",
       "      <th>High</th>\n",
       "      <th>Low</th>\n",
       "      <th>Open</th>\n",
       "      <th>Close</th>\n",
       "      <th>Volume</th>\n",
       "    </tr>\n",
       "  </thead>\n",
       "  <tbody>\n",
       "    <tr>\n",
       "      <th>0</th>\n",
       "      <td>313.013000</td>\n",
       "      <td>310.300293</td>\n",
       "      <td>312.687683</td>\n",
       "      <td>310.300293</td>\n",
       "      <td>2437160.0</td>\n",
       "    </tr>\n",
       "    <tr>\n",
       "      <th>1</th>\n",
       "      <td>315.070068</td>\n",
       "      <td>312.432434</td>\n",
       "      <td>313.788788</td>\n",
       "      <td>313.688690</td>\n",
       "      <td>3908488.0</td>\n",
       "    </tr>\n",
       "    <tr>\n",
       "      <th>2</th>\n",
       "      <td>314.234222</td>\n",
       "      <td>311.081085</td>\n",
       "      <td>313.903900</td>\n",
       "      <td>312.307312</td>\n",
       "      <td>6003391.0</td>\n",
       "    </tr>\n",
       "    <tr>\n",
       "      <th>3</th>\n",
       "      <td>313.243256</td>\n",
       "      <td>303.483490</td>\n",
       "      <td>313.243256</td>\n",
       "      <td>304.434448</td>\n",
       "      <td>7949443.0</td>\n",
       "    </tr>\n",
       "    <tr>\n",
       "      <th>4</th>\n",
       "      <td>305.305298</td>\n",
       "      <td>296.621613</td>\n",
       "      <td>305.005005</td>\n",
       "      <td>297.347351</td>\n",
       "      <td>12815771.0</td>\n",
       "    </tr>\n",
       "  </tbody>\n",
       "</table>\n",
       "</div>"
      ],
      "text/plain": [
       "         High         Low        Open       Close      Volume\n",
       "0  313.013000  310.300293  312.687683  310.300293   2437160.0\n",
       "1  315.070068  312.432434  313.788788  313.688690   3908488.0\n",
       "2  314.234222  311.081085  313.903900  312.307312   6003391.0\n",
       "3  313.243256  303.483490  313.243256  304.434448   7949443.0\n",
       "4  305.305298  296.621613  305.005005  297.347351  12815771.0"
      ]
     },
     "execution_count": 14,
     "metadata": {},
     "output_type": "execute_result"
    }
   ],
   "source": [
    "df = df.drop(['Date', 'Adj Close'], axis = 1)\n",
    "df.head()"
   ]
  },
  {
   "cell_type": "markdown",
   "metadata": {},
   "source": [
    ">Moving average is an indicator that shows the average value of a stock's price over a period (i.e. 10 days, 50 days, 200 days, etc) and is usually plotted along with the closing price.\n",
    ">> So we will be ploting Moving avergae for 100 and 200 days with the closing price of stock. Also, we can further \n",
    "use Open Price of stock for the same analysis "
   ]
  },
  {
   "cell_type": "code",
   "execution_count": 15,
   "metadata": {},
   "outputs": [],
   "source": [
    "#Moving Average For 100 Days\n",
    "movingAvg100 = df.Close.rolling(100).mean()\n",
    "#Moving Average For 200 Days\n",
    "movingAvg200 = df.Close.rolling(200).mean()"
   ]
  },
  {
   "cell_type": "code",
   "execution_count": 16,
   "metadata": {},
   "outputs": [
    {
     "data": {
      "text/plain": [
       "<matplotlib.legend.Legend at 0x7fd2413183d0>"
      ]
     },
     "execution_count": 16,
     "metadata": {},
     "output_type": "execute_result"
    },
    {
     "data": {
      "image/png": "[encoded data removed]",
      "text/plain": [
       "<Figure size 864x432 with 1 Axes>"
      ]
     },
     "metadata": {
      "needs_background": "light"
     },
     "output_type": "display_data"
    }
   ],
   "source": [
    "plt.figure(figsize = (12,6))\n",
    "plt.plot(df.Close)\n",
    "plt.plot(movingAvg100, 'r', label = \"Moving Average 100\")\n",
    "plt.plot(movingAvg200, 'g', label = \"Moving Average 200\")\n",
    "plt.legend()"
   ]
  },
  {
   "cell_type": "code",
   "execution_count": 18,
   "metadata": {},
   "outputs": [
    {
     "name": "stdout",
     "output_type": "stream",
     "text": [
      "(1938, 1)\n",
      "(832, 1)\n"
     ]
    }
   ],
   "source": [
    "#Spliting data into training and testing \n",
    "data_train = pd.DataFrame(df['Close'][0:int(len(df)*0.70)])\n",
    "data_test = pd.DataFrame(df['Close'][int(len(df)*0.70) : int(len(df))])\n",
    "print(data_train.shape)\n",
    "print(data_test.shape)"
   ]
  },
  {
   "cell_type": "code",
   "execution_count": 19,
   "metadata": {},
   "outputs": [],
   "source": [
    "#Scaling Down the Data\n",
    "from sklearn.preprocessing import MinMaxScaler\n",
    "scaler = MinMaxScaler(feature_range=(0,1))"
   ]
  },
  {
   "cell_type": "code",
   "execution_count": 20,
   "metadata": {},
   "outputs": [],
   "source": [
    "data_train_array = scaler.fit_transform(data_train)"
   ]
  },
  {
   "cell_type": "code",
   "execution_count": 21,
   "metadata": {},
   "outputs": [],
   "source": [
    "# Staring 200 Days will be my X_Train and 201th Day will be my Y_Train and Futher 201th Value will be includes into \n",
    "# Training and Next Day will be my Y_Train\n",
    "X_Train = []\n",
    "Y_Train = []\n",
    "\n",
    "for i in range(200, data_train_array.shape[0]):\n",
    "    X_Train.append(data_train_array[i - 200: i])\n",
    "    Y_Train.append(data_train_array[i, 0])"
   ]
  },
  {
   "cell_type": "code",
   "execution_count": 22,
   "metadata": {},
   "outputs": [],
   "source": [
    "X_Train, Y_Train = np.array(X_Train), np.array(Y_Train)"
   ]
  },
  {
   "cell_type": "code",
   "execution_count": 25,
   "metadata": {},
   "outputs": [],
   "source": [
    "#LSTM Model\n",
    "from keras.layers import Dense, Dropout, LSTM\n",
    "from keras.models import Sequential"
   ]
  },
  {
   "cell_type": "code",
   "execution_count": 26,
   "metadata": {},
   "outputs": [],
   "source": [
    "model = Sequential()\n",
    "\n",
    "model.add(LSTM(units = 50, activation = 'relu', return_sequences = True, input_shape = (X_Train.shape[1], 1)))\n",
    "model.add(Dropout(0.2))\n",
    "\n",
    "model.add(LSTM(units = 60, activation = 'relu', return_sequences = True))\n",
    "model.add(Dropout(0.3))\n",
    "\n",
    "model.add(LSTM(units = 80, activation = 'relu', return_sequences = True))\n",
    "model.add(Dropout(0.4))\n",
    "\n",
    "model.add(LSTM(units = 120, activation = 'relu'))\n",
    "model.add(Dropout(0.5))\n",
    "\n",
    "model.add(Dense(units = 1))"
   ]
  },
  {
   "cell_type": "code",
   "execution_count": 27,
   "metadata": {},
   "outputs": [
    {
     "name": "stdout",
     "output_type": "stream",
     "text": [
      "Model: \"sequential\"\n",
      "_________________________________________________________________\n",
      "Layer (type)                 Output Shape              Param #   \n",
      "=================================================================\n",
      "lstm (LSTM)                  (None, 200, 50)           10400     \n",
      "_________________________________________________________________\n",
      "dropout (Dropout)            (None, 200, 50)           0         \n",
      "_________________________________________________________________\n",
      "lstm_1 (LSTM)                (None, 200, 60)           26640     \n",
      "_________________________________________________________________\n",
      "dropout_1 (Dropout)          (None, 200, 60)           0         \n",
      "_________________________________________________________________\n",
      "lstm_2 (LSTM)                (None, 200, 80)           45120     \n",
      "_________________________________________________________________\n",
      "dropout_2 (Dropout)          (None, 200, 80)           0         \n",
      "_________________________________________________________________\n",
      "lstm_3 (LSTM)                (None, 120)               96480     \n",
      "_________________________________________________________________\n",
      "dropout_3 (Dropout)          (None, 120)               0         \n",
      "_________________________________________________________________\n",
      "dense (Dense)                (None, 1)                 121       \n",
      "=================================================================\n",
      "Total params: 178,761\n",
      "Trainable params: 178,761\n",
      "Non-trainable params: 0\n",
      "_________________________________________________________________\n"
     ]
    }
   ],
   "source": [
    "model.summary()"
   ]
  },
  {
   "cell_type": "code",
   "execution_count": 29,
   "metadata": {},
   "outputs": [
    {
     "name": "stdout",
     "output_type": "stream",
     "text": [
      "Epoch 1/100\n",
      "55/55 [==============================] - 61s 557ms/step - loss: 0.0957\n",
      "Epoch 2/100\n",
      "55/55 [==============================] - 28s 518ms/step - loss: 0.0082\n",
      "Epoch 3/100\n",
      "55/55 [==============================] - 30s 542ms/step - loss: 0.0077\n",
      "Epoch 4/100\n",
      "55/55 [==============================] - 30s 545ms/step - loss: 0.0066\n",
      "Epoch 5/100\n",
      "55/55 [==============================] - 27s 495ms/step - loss: 0.0064\n",
      "Epoch 6/100\n",
      "55/55 [==============================] - 29s 523ms/step - loss: 0.0076\n",
      "Epoch 7/100\n",
      "55/55 [==============================] - 28s 504ms/step - loss: 0.0061\n",
      "Epoch 8/100\n",
      "55/55 [==============================] - 30s 540ms/step - loss: 0.0067\n",
      "Epoch 9/100\n",
      "55/55 [==============================] - 30s 542ms/step - loss: 0.0056\n",
      "Epoch 10/100\n",
      "55/55 [==============================] - 29s 525ms/step - loss: 0.0052\n",
      "Epoch 11/100\n",
      "55/55 [==============================] - 28s 517ms/step - loss: 0.0050\n",
      "Epoch 12/100\n",
      "55/55 [==============================] - 30s 543ms/step - loss: 0.0053\n",
      "Epoch 13/100\n",
      "55/55 [==============================] - 29s 531ms/step - loss: 0.0044\n",
      "Epoch 14/100\n",
      "55/55 [==============================] - 29s 521ms/step - loss: 0.0047\n",
      "Epoch 15/100\n",
      "55/55 [==============================] - 29s 521ms/step - loss: 0.0041\n",
      "Epoch 16/100\n",
      "55/55 [==============================] - 28s 502ms/step - loss: 0.0042\n",
      "Epoch 17/100\n",
      "55/55 [==============================] - 30s 544ms/step - loss: 0.0039\n",
      "Epoch 18/100\n",
      "55/55 [==============================] - 27s 480ms/step - loss: 0.0039\n",
      "Epoch 19/100\n",
      "55/55 [==============================] - 31s 558ms/step - loss: 0.0041\n",
      "Epoch 20/100\n",
      "55/55 [==============================] - 30s 536ms/step - loss: 0.0038\n",
      "Epoch 21/100\n",
      "55/55 [==============================] - 29s 527ms/step - loss: 0.0036\n",
      "Epoch 22/100\n",
      "55/55 [==============================] - 29s 526ms/step - loss: 0.0037\n",
      "Epoch 23/100\n",
      "55/55 [==============================] - 29s 524ms/step - loss: 0.0037\n",
      "Epoch 24/100\n",
      "55/55 [==============================] - 33s 597ms/step - loss: 0.0049\n",
      "Epoch 25/100\n",
      "55/55 [==============================] - 30s 545ms/step - loss: 0.0037\n",
      "Epoch 26/100\n",
      "55/55 [==============================] - 27s 482ms/step - loss: 0.0036\n",
      "Epoch 27/100\n",
      "55/55 [==============================] - 28s 517ms/step - loss: 0.0034\n",
      "Epoch 28/100\n",
      "55/55 [==============================] - 29s 523ms/step - loss: 0.0033\n",
      "Epoch 29/100\n",
      "55/55 [==============================] - 27s 498ms/step - loss: 0.0035\n",
      "Epoch 30/100\n",
      "55/55 [==============================] - 28s 512ms/step - loss: 0.0028\n",
      "Epoch 31/100\n",
      "55/55 [==============================] - 28s 508ms/step - loss: 0.0031\n",
      "Epoch 32/100\n",
      "55/55 [==============================] - 42s 774ms/step - loss: 0.0027\n",
      "Epoch 33/100\n",
      "55/55 [==============================] - 33s 598ms/step - loss: 0.0032\n",
      "Epoch 34/100\n",
      "55/55 [==============================] - 29s 521ms/step - loss: 0.0030\n",
      "Epoch 35/100\n",
      "55/55 [==============================] - 30s 551ms/step - loss: 0.0026\n",
      "Epoch 36/100\n",
      "55/55 [==============================] - 34s 608ms/step - loss: 0.0027\n",
      "Epoch 37/100\n",
      "55/55 [==============================] - 37s 678ms/step - loss: 0.0029\n",
      "Epoch 38/100\n",
      "55/55 [==============================] - 31s 558ms/step - loss: 0.0030\n",
      "Epoch 39/100\n",
      "55/55 [==============================] - 31s 565ms/step - loss: 0.0030\n",
      "Epoch 40/100\n",
      "55/55 [==============================] - 30s 552ms/step - loss: 0.0029\n",
      "Epoch 41/100\n",
      "55/55 [==============================] - 30s 542ms/step - loss: 0.0029\n",
      "Epoch 42/100\n",
      "55/55 [==============================] - 29s 520ms/step - loss: 0.0030\n",
      "Epoch 43/100\n",
      "55/55 [==============================] - 31s 573ms/step - loss: 0.0030\n",
      "Epoch 44/100\n",
      "55/55 [==============================] - 29s 529ms/step - loss: 0.0029\n",
      "Epoch 45/100\n",
      "55/55 [==============================] - 29s 534ms/step - loss: 0.0026\n",
      "Epoch 46/100\n",
      "55/55 [==============================] - 32s 588ms/step - loss: 0.0028\n",
      "Epoch 47/100\n",
      "55/55 [==============================] - 30s 548ms/step - loss: 0.0025\n",
      "Epoch 48/100\n",
      "55/55 [==============================] - 30s 554ms/step - loss: 0.0023\n",
      "Epoch 49/100\n",
      "55/55 [==============================] - 31s 559ms/step - loss: 0.0026\n",
      "Epoch 50/100\n",
      "55/55 [==============================] - 29s 520ms/step - loss: 0.0026\n",
      "Epoch 51/100\n",
      "55/55 [==============================] - 30s 542ms/step - loss: 0.0022\n",
      "Epoch 52/100\n",
      "55/55 [==============================] - 30s 544ms/step - loss: 0.0029\n",
      "Epoch 53/100\n",
      "55/55 [==============================] - 28s 515ms/step - loss: 0.0026\n",
      "Epoch 54/100\n",
      "55/55 [==============================] - 31s 570ms/step - loss: 0.0027\n",
      "Epoch 55/100\n",
      "55/55 [==============================] - 29s 532ms/step - loss: 0.0028\n",
      "Epoch 56/100\n",
      "55/55 [==============================] - 30s 541ms/step - loss: 0.0028\n",
      "Epoch 57/100\n",
      "55/55 [==============================] - 27s 493ms/step - loss: 0.0025\n",
      "Epoch 58/100\n",
      "55/55 [==============================] - 29s 532ms/step - loss: 0.0026\n",
      "Epoch 59/100\n",
      "55/55 [==============================] - 29s 534ms/step - loss: 0.0030\n",
      "Epoch 60/100\n",
      "55/55 [==============================] - 30s 543ms/step - loss: 0.0023\n",
      "Epoch 61/100\n",
      "55/55 [==============================] - 31s 558ms/step - loss: 0.0023\n",
      "Epoch 62/100\n",
      "55/55 [==============================] - 29s 526ms/step - loss: 0.0025\n",
      "Epoch 63/100\n",
      "55/55 [==============================] - 31s 558ms/step - loss: 0.0024\n",
      "Epoch 64/100\n",
      "55/55 [==============================] - 36s 661ms/step - loss: 0.0028\n",
      "Epoch 65/100\n",
      "55/55 [==============================] - 33s 597ms/step - loss: 0.0024\n",
      "Epoch 66/100\n",
      "55/55 [==============================] - 35s 633ms/step - loss: 0.0022\n",
      "Epoch 67/100\n",
      "55/55 [==============================] - 28s 513ms/step - loss: 0.0027\n",
      "Epoch 68/100\n",
      "55/55 [==============================] - 31s 566ms/step - loss: 0.0023\n",
      "Epoch 69/100\n",
      "55/55 [==============================] - 35s 642ms/step - loss: 0.0024\n",
      "Epoch 70/100\n",
      "55/55 [==============================] - 34s 608ms/step - loss: 0.0024\n",
      "Epoch 71/100\n",
      "55/55 [==============================] - 29s 535ms/step - loss: 0.0022\n",
      "Epoch 72/100\n",
      "55/55 [==============================] - 30s 543ms/step - loss: 0.0022\n",
      "Epoch 73/100\n",
      "55/55 [==============================] - 30s 553ms/step - loss: 0.0023\n",
      "Epoch 74/100\n",
      "55/55 [==============================] - 27s 499ms/step - loss: 0.0023\n",
      "Epoch 75/100\n",
      "55/55 [==============================] - 35s 631ms/step - loss: 0.0026\n",
      "Epoch 76/100\n",
      "55/55 [==============================] - 27s 485ms/step - loss: 0.0021\n",
      "Epoch 77/100\n",
      "55/55 [==============================] - 26s 471ms/step - loss: 0.0025\n",
      "Epoch 78/100\n",
      "55/55 [==============================] - 26s 471ms/step - loss: 0.0024\n",
      "Epoch 79/100\n",
      "55/55 [==============================] - 25s 458ms/step - loss: 0.0023\n",
      "Epoch 80/100\n",
      "55/55 [==============================] - 25s 461ms/step - loss: 0.0021\n",
      "Epoch 81/100\n",
      "55/55 [==============================] - 26s 466ms/step - loss: 0.0023\n",
      "Epoch 82/100\n",
      "55/55 [==============================] - 25s 462ms/step - loss: 0.0022\n",
      "Epoch 83/100\n",
      "55/55 [==============================] - 26s 464ms/step - loss: 0.0022\n",
      "Epoch 84/100\n",
      "55/55 [==============================] - 25s 460ms/step - loss: 0.0022\n",
      "Epoch 85/100\n",
      "55/55 [==============================] - 26s 464ms/step - loss: 0.0022\n",
      "Epoch 86/100\n",
      "55/55 [==============================] - 25s 459ms/step - loss: 0.0022\n",
      "Epoch 87/100\n",
      "55/55 [==============================] - 26s 470ms/step - loss: 0.0023\n",
      "Epoch 88/100\n",
      "55/55 [==============================] - 25s 460ms/step - loss: 0.0022\n",
      "Epoch 89/100\n",
      "55/55 [==============================] - 25s 460ms/step - loss: 0.0023\n",
      "Epoch 90/100\n",
      "55/55 [==============================] - 25s 461ms/step - loss: 0.0025\n",
      "Epoch 91/100\n",
      "55/55 [==============================] - 25s 458ms/step - loss: 0.0021\n",
      "Epoch 92/100\n",
      "55/55 [==============================] - 25s 463ms/step - loss: 0.0022\n",
      "Epoch 93/100\n",
      "55/55 [==============================] - 25s 463ms/step - loss: 0.0019\n",
      "Epoch 94/100\n",
      "55/55 [==============================] - 25s 463ms/step - loss: 0.0022\n",
      "Epoch 95/100\n",
      "55/55 [==============================] - 25s 461ms/step - loss: 0.0022\n",
      "Epoch 96/100\n",
      "55/55 [==============================] - 25s 461ms/step - loss: 0.0024\n",
      "Epoch 97/100\n",
      "55/55 [==============================] - 26s 465ms/step - loss: 0.0022\n",
      "Epoch 98/100\n"
     ]
    },
    {
     "name": "stdout",
     "output_type": "stream",
     "text": [
      "55/55 [==============================] - 25s 458ms/step - loss: 0.0019\n",
      "Epoch 99/100\n",
      "55/55 [==============================] - 26s 466ms/step - loss: 0.0022\n",
      "Epoch 100/100\n",
      "55/55 [==============================] - 25s 461ms/step - loss: 0.0020\n"
     ]
    },
    {
     "data": {
      "text/plain": [
       "<keras.callbacks.History at 0x7fd22b47f520>"
      ]
     },
     "execution_count": 29,
     "metadata": {},
     "output_type": "execute_result"
    }
   ],
   "source": [
    "model.compile(optimizer='adam', loss = 'mean_squared_error')\n",
    "model.fit(X_Train, Y_Train, epochs = 100)"
   ]
  },
  {
   "cell_type": "code",
   "execution_count": 31,
   "metadata": {},
   "outputs": [],
   "source": [
    "model.save('Stockify_LSTM_Model.h5')"
   ]
  },
  {
   "cell_type": "code",
   "execution_count": 32,
   "metadata": {},
   "outputs": [
    {
     "name": "stdout",
     "output_type": "stream",
     "text": [
      "(932, 1)\n"
     ]
    }
   ],
   "source": [
    "#Testing the model I need Past 200 Days data\n",
    "past_200_days = data_train.tail(100)\n",
    "final_df = past_200_days.append(data_test, ignore_index=True)\n",
    "input_data = scaler.fit_transform(final_df)\n",
    "print(input_data.shape)"
   ]
  },
  {
   "cell_type": "code",
   "execution_count": 37,
   "metadata": {},
   "outputs": [
    {
     "name": "stdout",
     "output_type": "stream",
     "text": [
      "(732, 200, 1)\n",
      "(732,)\n"
     ]
    }
   ],
   "source": [
    "X_Test = []\n",
    "Y_Test = []\n",
    "\n",
    "for i in range(200, input_data.shape[0]):\n",
    "    X_Test.append(input_data[i-200:i])\n",
    "    Y_Test.append(input_data[i, 0])\n",
    "\n",
    "X_Test, Y_Test = np.array(X_Test), np.array(Y_Test)\n",
    "\n",
    "print(X_Test.shape)\n",
    "print(Y_Test.shape)"
   ]
  },
  {
   "cell_type": "code",
   "execution_count": 38,
   "metadata": {},
   "outputs": [],
   "source": [
    "#Prediction\n",
    "Y_pred = model.predict(X_Test)"
   ]
  },
  {
   "cell_type": "code",
   "execution_count": 39,
   "metadata": {},
   "outputs": [],
   "source": [
    "scaler = scaler.scale_"
   ]
  },
  {
   "cell_type": "code",
   "execution_count": 40,
   "metadata": {},
   "outputs": [],
   "source": [
    "scaler_factor = 1/scaler[0]\n",
    "Y_pred = Y_pred * scaler_factor\n",
    "Y_Test = Y_Test * scaler_factor"
   ]
  },
  {
   "cell_type": "code",
   "execution_count": 41,
   "metadata": {},
   "outputs": [
    {
     "data": {
      "image/png": "[encoded data removed]",
      "text/plain": [
       "<Figure size 864x432 with 1 Axes>"
      ]
     },
     "metadata": {
      "needs_background": "light"
     },
     "output_type": "display_data"
    }
   ],
   "source": [
    "plt.figure(figsize = (12,6))\n",
    "plt.plot(Y_Test, 'b', label = 'Original Price')\n",
    "plt.plot(Y_pred, 'r', label = 'Predicted Price')\n",
    "plt.xlabel('Time')\n",
    "plt.ylabel('Price')\n",
    "plt.legend()\n",
    "plt.show()"
   ]
  },
  {
   "cell_type": "code",
   "execution_count": null,
   "metadata": {},
   "outputs": [],
   "source": []
  }
 ],
 "metadata": {
  "kernelspec": {
   "display_name": "Python 3",
   "language": "python",
   "name": "python3"
  },
  "language_info": {
   "codemirror_mode": {
    "name": "ipython",
    "version": 3
   },
   "file_extension": ".py",
   "mimetype": "text/x-python",
   "name": "python",
   "nbconvert_exporter": "python",
   "pygments_lexer": "ipython3",
   "version": "3.8.3"
  }
 },
 "nbformat": 4,
 "nbformat_minor": 4
}
